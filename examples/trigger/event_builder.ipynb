{
 "cells": [
  {
   "cell_type": "markdown",
   "id": "98349e37-3573-48bc-ad46-4e7149d0d87b",
   "metadata": {},
   "source": [
    "# EventBuilder Demo\n",
    "  - load configuration from yaml file\n",
    "  - load filter file\n",
    "  - get traces\n",
    "  - Instantiate EventBuilder class\n",
    "      - Add OptimumFilterTrigger object for each triggers\n",
    "      - Find triggers\n",
    "      - Merge coincident triggers"
   ]
  },
  {
   "cell_type": "code",
   "execution_count": 1,
   "id": "4019d297-1158-4f6a-9309-1c5c4874c64d",
   "metadata": {},
   "outputs": [],
   "source": [
    "import numpy as np\n",
    "import vaex as vx\n",
    "from detprocess import RawData, YamlConfig, FilterData, EventBuilder, OptimumFilterTrigger\n",
    "from pprint import pprint\n",
    "import qetpy as qp"
   ]
  },
  {
   "cell_type": "markdown",
   "id": "38599a5d-f137-41d4-9175-bc23952691af",
   "metadata": {},
   "source": [
    "### User input: Raw data path, yaml configuration path, and selected event"
   ]
  },
  {
   "cell_type": "code",
   "execution_count": 2,
   "id": "f1a7b730-4d1e-4b7d-a42c-5c0b5ae691f2",
   "metadata": {},
   "outputs": [],
   "source": [
    "# continuous raw data path\n",
    "raw_path = '/sdata1/runs/run47/raw/continuous_I2_D20240719_T172034'\n",
    "\n",
    "# configuration file\n",
    "yaml_file = '/data/users/serfass/run47/run47_config.html'\n",
    "\n",
    "# selected event\n",
    "series_number = 220240719172554 \n",
    "event_number = 500002\n"
   ]
  },
  {
   "cell_type": "markdown",
   "id": "b0891e74-7e79-479f-9336-e50eb2758285",
   "metadata": {},
   "source": [
    "### Raw data "
   ]
  },
  {
   "cell_type": "code",
   "execution_count": 3,
   "id": "fe1ba6fa-7b7b-46a6-a3bf-7fe1ae7f5c0b",
   "metadata": {},
   "outputs": [
    {
     "name": "stdout",
     "output_type": "stream",
     "text": [
      "INFO: Building file map for raw data group continuous_I2_D20240719_T172034\n",
      "Raw data group: continuous_I2_D20240719_T172034\n",
      "Base path: /sdata1/runs/run47/raw\n",
      "Number of series:\n",
      " - open continuous data: 6 series\n",
      "\n",
      "Available channels: ['Mv3025pcBigFinsLeft', 'Mv3025pcBigFinsRight', 'Mv3025pcRegularLeft', 'Mv3025pcRegularRight']\n"
     ]
    }
   ],
   "source": [
    "rawdata_obj = RawData(raw_path, data_type='cont', series=None)\n",
    "rawdata_obj.describe()\n",
    "\n",
    "# channels in raw data\n",
    "available_channels = rawdata_obj.get_available_channels()\n",
    "print(f'\\nAvailable channels: {available_channels}')\n",
    "\n",
    "# sample rate\n",
    "sample_rate = rawdata_obj.get_sample_rate()"
   ]
  },
  {
   "cell_type": "markdown",
   "id": "15d7e8e5-60d4-4cfd-8f65-39d518e2a69e",
   "metadata": {},
   "source": [
    "### Read configuration file"
   ]
  },
  {
   "cell_type": "code",
   "execution_count": 4,
   "id": "62f8d276-93e8-4b28-98a5-cd048addbec5",
   "metadata": {},
   "outputs": [
    {
     "name": "stdout",
     "output_type": "stream",
     "text": [
      "{'channel_list': ['Mv3025pcBigFinsLeft', 'Mv3025pcBigFinsRight'],\n",
      " 'channels': {'of2x1_shared_Melange025pcBigFins': {'channel_name': 'Mv3025pcBigFinsLeft|Mv3025pcBigFinsRight',\n",
      "                                                   'csd_tag': 'default',\n",
      "                                                   'pileup_window_msec': 2,\n",
      "                                                   'run': True,\n",
      "                                                   'template_tag': 'shared',\n",
      "                                                   'threshold_sigma': 4.0},\n",
      "              'of2x1_single_left_Melange025pcBigFins': {'channel_name': 'Mv3025pcBigFinsLeft|Mv3025pcBigFinsRight',\n",
      "                                                        'csd_tag': 'default',\n",
      "                                                        'pileup_window_msec': 2,\n",
      "                                                        'run': True,\n",
      "                                                        'template_tag': 'single_left',\n",
      "                                                        'threshold_sigma': 4.0},\n",
      "              'of2x1_single_right_Melange025pcBigFins': {'channel_name': 'Mv3025pcBigFinsLeft|Mv3025pcBigFinsRight',\n",
      "                                                         'csd_tag': 'default',\n",
      "                                                         'pileup_window_msec': 2,\n",
      "                                                         'run': True,\n",
      "                                                         'template_tag': 'single_right',\n",
      "                                                         'threshold_sigma': 4.0}},\n",
      " 'overall': {'coincident_window_msec': 0.25,\n",
      "             'didv_file': None,\n",
      "             'filter_file': '/data/users/serfass/run47/r47_072324_filter_dm.hdf5'}}\n"
     ]
    }
   ],
   "source": [
    "yaml_obj = YamlConfig(yaml_file, available_channels)\n",
    "trigger_config = yaml_obj.get_config('trigger')\n",
    "pprint(trigger_config)\n",
    "\n",
    "# filter file\n",
    "filter_file = trigger_config['overall']['filter_file']\n",
    "\n",
    "\n",
    "# list of individual channels that will be used for triggering\n",
    "trigger_channels = trigger_config['channel_list']"
   ]
  },
  {
   "cell_type": "markdown",
   "id": "d9b03146-c2d8-4427-941d-fecc44ee0e2d",
   "metadata": {},
   "source": [
    "### Load filter file"
   ]
  },
  {
   "cell_type": "code",
   "execution_count": 5,
   "id": "225dc073-8bb7-4c6c-b6a2-86ee6aabed97",
   "metadata": {},
   "outputs": [
    {
     "name": "stdout",
     "output_type": "stream",
     "text": [
      "INFO: Loading filter data from file /data/users/serfass/run47/r47_072324_filter_dm.hdf5\n"
     ]
    }
   ],
   "source": [
    "filterdata_obj = FilterData()\n",
    "filterdata_obj.load_hdf5(filter_file)\n",
    "#filterdata_obj.describe()"
   ]
  },
  {
   "cell_type": "markdown",
   "id": "ba06c6ea-2edb-4688-a669-d7d9cce35096",
   "metadata": {},
   "source": [
    "### Load raw data traces"
   ]
  },
  {
   "cell_type": "code",
   "execution_count": 6,
   "id": "bff71118-7f0f-4ded-a9d8-840b381e9a76",
   "metadata": {},
   "outputs": [],
   "source": [
    "traces, admins = rawdata_obj.get_traces(series_nums=series_number, event_nums=event_number, \n",
    "                                        channels=trigger_channels,\n",
    "                                        include_metadata=True)\n",
    "\n",
    "# convert from 3D to 2D\n",
    "# the order in array follow trigger_channels\n",
    "traces = traces[0,:]\n",
    "trace_admin = admins[0]"
   ]
  },
  {
   "cell_type": "markdown",
   "id": "49614de7-afe9-4467-a603-5639ce68dc89",
   "metadata": {},
   "source": [
    "### Instantiate EventBuilder and add OptimumFilterTrigger objects for each triggers"
   ]
  },
  {
   "cell_type": "code",
   "execution_count": 7,
   "id": "760c060b-05b0-4e3a-9643-eb724fb210a6",
   "metadata": {},
   "outputs": [],
   "source": [
    "evtbuilder_obj = EventBuilder()"
   ]
  },
  {
   "cell_type": "code",
   "execution_count": 8,
   "id": "c3da11e8-e994-4735-b165-0a0cc365991b",
   "metadata": {},
   "outputs": [
    {
     "name": "stdout",
     "output_type": "stream",
     "text": [
      "Adding trigger channel: of2x1_shared_Melange025pcBigFins\n",
      "Adding trigger channel: of2x1_single_left_Melange025pcBigFins\n",
      "Adding trigger channel: of2x1_single_right_Melange025pcBigFins\n"
     ]
    }
   ],
   "source": [
    "# loop trigger channel from yaml config\n",
    "evtbuilder_obj.clear_event()\n",
    "for trig_chan, trig_data in trigger_config['channels'].items():\n",
    "   \n",
    "    # channel name\n",
    "    channel_name = trig_data['channel_name']\n",
    "    \n",
    "    # get template\n",
    "    template_tag = trig_data['template_tag']\n",
    "    template, template_time, template_metadata = (\n",
    "        filterdata_obj.get_template(\n",
    "            channel_name, tag=template_tag,\n",
    "            return_metadata=True)\n",
    "    )\n",
    "    nb_pretrigger_samples = template_metadata['nb_pretrigger_samples']\n",
    "    \n",
    "    # get noise csd/psd\n",
    "    noise_tag = 'default'\n",
    "    if 'noise_tag' in trig_data:\n",
    "        noise_tag = trig_data['noise_tag']\n",
    "    elif 'csd_tag' in trig_data:\n",
    "        noise_tag = trig_data['csd_tag']\n",
    "    elif 'psd_tag' in trig_data:\n",
    "        noise_tag = trig_data['psd_tag']\n",
    "            \n",
    "    noise, noise_freqs, noise_metadata = (\n",
    "        filterdata_obj.get_csd(\n",
    "            channel_name,\n",
    "            tag=noise_tag,\n",
    "            fold=False,\n",
    "            return_metadata=True)\n",
    "    )\n",
    "    \n",
    "    # instantiate optimal filter trigger\n",
    "    oftrigger_obj = OptimumFilterTrigger(\n",
    "        channel_name, sample_rate, template, noise,\n",
    "        nb_pretrigger_samples,\n",
    "        trigger_name=trig_chan\n",
    "    )\n",
    "\n",
    "    # add in EventBuilder\n",
    "    print(f'Adding trigger channel: {trig_chan}')\n",
    "    evtbuilder_obj.add_trigger_object(trig_chan, oftrigger_obj) \n"
   ]
  },
  {
   "cell_type": "markdown",
   "id": "b5514e59-666f-4bcb-b1c8-dc12fe4b761a",
   "metadata": {},
   "source": [
    "### Acquire triggers"
   ]
  },
  {
   "cell_type": "code",
   "execution_count": 9,
   "id": "9273b83c-ab68-466e-af84-a5c83cd6a36f",
   "metadata": {},
   "outputs": [],
   "source": [
    "for trig_chan, trig_data in trigger_config['channels'].items():\n",
    "   \n",
    "    # channel name\n",
    "    channel_name = trig_data['channel_name']\n",
    "    channel_list = qp.utils.convert_channel_name_to_list(channel_name)\n",
    "    \n",
    "    # threshold\n",
    "    threshold = trig_data['threshold_sigma']\n",
    "    pileup_window_msec = trig_data['pileup_window_msec']\n",
    "\n",
    "    # trace (need to be correct order)\n",
    "    indices = [np.where(np.array(trigger_channels) == ch)[0][0] for ch in channel_list]\n",
    "    trace = traces[indices,:]\n",
    "    \n",
    "    \n",
    "    # acquire trigger\n",
    "    evtbuilder_obj.acquire_triggers(\n",
    "        trig_chan,\n",
    "        trace,\n",
    "        threshold,\n",
    "        pileup_window_msec=pileup_window_msec\n",
    "    )"
   ]
  },
  {
   "cell_type": "markdown",
   "id": "fafd21a2-d59c-4502-8a25-af763c2da18d",
   "metadata": {},
   "source": [
    "### Dataframe **before** merging coincident triggers"
   ]
  },
  {
   "cell_type": "code",
   "execution_count": 10,
   "id": "d05372b0-8610-4f09-a49b-c37e7c8b8aa3",
   "metadata": {},
   "outputs": [
    {
     "name": "stdout",
     "output_type": "stream",
     "text": [
      "Maximum time between adjacent triggers = 125.51519999999994 msec\n",
      "Minimum time between adjacent triggers = 0.0 msec\n",
      "\n"
     ]
    },
    {
     "data": {
      "text/html": [
       "<table>\n",
       "<thead>\n",
       "<tr><th>#                              </th><th>trigger_delta_chi2  </th><th>trigger_time  </th><th>trigger_index  </th><th>trigger_pileup_window  </th><th>trigger_threshold_sigma  </th><th>trigger_type  </th><th>trigger_amplitude_0  </th><th>trigger_amplitude  </th><th>trigger_delta_chi2_of2x1_shared_Melange025pcBigFins  </th><th>trigger_time_of2x1_shared_Melange025pcBigFins  </th><th>trigger_index_of2x1_shared_Melange025pcBigFins  </th><th>trigger_pileup_window_of2x1_shared_Melange025pcBigFins  </th><th>trigger_threshold_sigma_of2x1_shared_Melange025pcBigFins  </th><th>trigger_type_of2x1_shared_Melange025pcBigFins  </th><th>trigger_amplitude_0_of2x1_shared_Melange025pcBigFins  </th><th>trigger_amplitude_of2x1_shared_Melange025pcBigFins  </th><th>trigger_channel                       </th><th>trigger_delta_chi2_of2x1_single_left_Melange025pcBigFins  </th><th>trigger_time_of2x1_single_left_Melange025pcBigFins  </th><th>trigger_index_of2x1_single_left_Melange025pcBigFins  </th><th>trigger_pileup_window_of2x1_single_left_Melange025pcBigFins  </th><th>trigger_threshold_sigma_of2x1_single_left_Melange025pcBigFins  </th><th>trigger_type_of2x1_single_left_Melange025pcBigFins  </th><th>trigger_amplitude_0_of2x1_single_left_Melange025pcBigFins  </th><th>trigger_amplitude_of2x1_single_left_Melange025pcBigFins  </th><th>trigger_delta_chi2_of2x1_single_right_Melange025pcBigFins  </th><th>trigger_time_of2x1_single_right_Melange025pcBigFins  </th><th>trigger_index_of2x1_single_right_Melange025pcBigFins  </th><th>trigger_pileup_window_of2x1_single_right_Melange025pcBigFins  </th><th>trigger_threshold_sigma_of2x1_single_right_Melange025pcBigFins  </th><th>trigger_type_of2x1_single_right_Melange025pcBigFins  </th><th>trigger_amplitude_0_of2x1_single_right_Melange025pcBigFins  </th><th>trigger_amplitude_of2x1_single_right_Melange025pcBigFins  </th></tr>\n",
       "</thead>\n",
       "<tbody>\n",
       "<tr><td><i style='opacity: 0.6'>0</i>  </td><td>16.158275875109712  </td><td>0.0209832     </td><td>26229          </td><td>2500                   </td><td>4.0                      </td><td>4             </td><td>-0.2571636193816802  </td><td>-0.2571636193816802</td><td>--                                                   </td><td>--                                             </td><td>--                                              </td><td>--                                                      </td><td>--                                                        </td><td>--                                             </td><td>--                                                    </td><td>--                                                  </td><td>of2x1_single_right_Melange025pcBigFins</td><td>--                                                        </td><td>--                                                  </td><td>--                                                   </td><td>--                                                           </td><td>--                                                             </td><td>--                                                  </td><td>--                                                         </td><td>--                                                       </td><td>16.158275875109712                                         </td><td>0.0209832                                            </td><td>26229                                                 </td><td>2500                                                          </td><td>4.0                                                             </td><td>4                                                    </td><td>-0.2571636193816802                                         </td><td>-0.2571636193816802                                       </td></tr>\n",
       "<tr><td><i style='opacity: 0.6'>1</i>  </td><td>16.503576980034524  </td><td>0.0426264     </td><td>53283          </td><td>2500                   </td><td>4.0                      </td><td>4             </td><td>-0.2598968775151653  </td><td>-0.2598968775151653</td><td>--                                                   </td><td>--                                             </td><td>--                                              </td><td>--                                                      </td><td>--                                                        </td><td>--                                             </td><td>--                                                    </td><td>--                                                  </td><td>of2x1_single_right_Melange025pcBigFins</td><td>--                                                        </td><td>--                                                  </td><td>--                                                   </td><td>--                                                           </td><td>--                                                             </td><td>--                                                  </td><td>--                                                         </td><td>--                                                       </td><td>16.503576980034524                                         </td><td>0.0426264                                            </td><td>53283                                                 </td><td>2500                                                          </td><td>4.0                                                             </td><td>4                                                    </td><td>-0.2598968775151653                                         </td><td>-0.2598968775151653                                       </td></tr>\n",
       "<tr><td><i style='opacity: 0.6'>2</i>  </td><td>94.96402265535968   </td><td>0.0470024     </td><td>58753          </td><td>2500                   </td><td>4.0                      </td><td>4             </td><td>0.6234355619412482   </td><td>0.6234355619412482 </td><td>--                                                   </td><td>--                                             </td><td>--                                              </td><td>--                                                      </td><td>--                                                        </td><td>--                                             </td><td>--                                                    </td><td>--                                                  </td><td>of2x1_single_right_Melange025pcBigFins</td><td>--                                                        </td><td>--                                                  </td><td>--                                                   </td><td>--                                                           </td><td>--                                                             </td><td>--                                                  </td><td>--                                                         </td><td>--                                                       </td><td>94.96402265535968                                          </td><td>0.0470024                                            </td><td>58753                                                 </td><td>2500                                                          </td><td>4.0                                                             </td><td>4                                                    </td><td>0.6234355619412482                                          </td><td>0.6234355619412482                                        </td></tr>\n",
       "<tr><td><i style='opacity: 0.6'>3</i>  </td><td>17.885691273387035  </td><td>0.06472       </td><td>80900          </td><td>2500                   </td><td>4.0                      </td><td>4             </td><td>-0.2705608067288591  </td><td>-0.2705608067288591</td><td>--                                                   </td><td>--                                             </td><td>--                                              </td><td>--                                                      </td><td>--                                                        </td><td>--                                             </td><td>--                                                    </td><td>--                                                  </td><td>of2x1_single_right_Melange025pcBigFins</td><td>--                                                        </td><td>--                                                  </td><td>--                                                   </td><td>--                                                           </td><td>--                                                             </td><td>--                                                  </td><td>--                                                         </td><td>--                                                       </td><td>17.885691273387035                                         </td><td>0.06472                                              </td><td>80900                                                 </td><td>2500                                                          </td><td>4.0                                                             </td><td>4                                                    </td><td>-0.2705608067288591                                         </td><td>-0.2705608067288591                                       </td></tr>\n",
       "<tr><td><i style='opacity: 0.6'>4</i>  </td><td>26.06511733272973   </td><td>0.06866       </td><td>85825          </td><td>2500                   </td><td>4.0                      </td><td>4             </td><td>0.5593210531940085   </td><td>0.5593210531940085 </td><td>26.06511733272973                                    </td><td>0.06866                                        </td><td>85825                                           </td><td>2500                                                    </td><td>4.0                                                       </td><td>4                                              </td><td>0.5593210531940085                                    </td><td>0.5593210531940085                                  </td><td>of2x1_shared_Melange025pcBigFins      </td><td>--                                                        </td><td>--                                                  </td><td>--                                                   </td><td>--                                                           </td><td>--                                                             </td><td>--                                                  </td><td>--                                                         </td><td>--                                                       </td><td>--                                                         </td><td>--                                                   </td><td>--                                                    </td><td>--                                                            </td><td>--                                                              </td><td>--                                                   </td><td>--                                                          </td><td>--                                                        </td></tr>\n",
       "<tr><td>...                            </td><td>...                 </td><td>...           </td><td>...            </td><td>...                    </td><td>...                      </td><td>...           </td><td>...                  </td><td>...                </td><td>...                                                  </td><td>...                                            </td><td>...                                             </td><td>...                                                     </td><td>...                                                       </td><td>...                                            </td><td>...                                                   </td><td>...                                                 </td><td>...                                   </td><td>...                                                       </td><td>...                                                 </td><td>...                                                  </td><td>...                                                          </td><td>...                                                            </td><td>...                                                 </td><td>...                                                        </td><td>...                                                      </td><td>...                                                        </td><td>...                                                  </td><td>...                                                   </td><td>...                                                           </td><td>...                                                             </td><td>...                                                  </td><td>...                                                         </td><td>...                                                       </td></tr>\n",
       "<tr><td><i style='opacity: 0.6'>749</i></td><td>20.204127303522412  </td><td>9.9318456     </td><td>12414807       </td><td>2500                   </td><td>4.0                      </td><td>4             </td><td>0.49243778907309493  </td><td>0.49243778907309493</td><td>20.204127303522412                                   </td><td>9.9318456                                      </td><td>12414807                                        </td><td>2500                                                    </td><td>4.0                                                       </td><td>4                                              </td><td>0.49243778907309493                                   </td><td>0.49243778907309493                                 </td><td>of2x1_shared_Melange025pcBigFins      </td><td>--                                                        </td><td>--                                                  </td><td>--                                                   </td><td>--                                                           </td><td>--                                                             </td><td>--                                                  </td><td>--                                                         </td><td>--                                                       </td><td>--                                                         </td><td>--                                                   </td><td>--                                                    </td><td>--                                                            </td><td>--                                                              </td><td>--                                                   </td><td>--                                                          </td><td>--                                                        </td></tr>\n",
       "<tr><td><i style='opacity: 0.6'>750</i></td><td>25.111968562381747  </td><td>9.9318488     </td><td>12414811       </td><td>2500                   </td><td>4.0                      </td><td>4             </td><td>0.4746476967050284   </td><td>0.4746476967050284 </td><td>--                                                   </td><td>--                                             </td><td>--                                              </td><td>--                                                      </td><td>--                                                        </td><td>--                                             </td><td>--                                                    </td><td>--                                                  </td><td>of2x1_single_left_Melange025pcBigFins </td><td>25.111968562381747                                        </td><td>9.9318488                                           </td><td>12414811                                             </td><td>2500                                                         </td><td>4.0                                                            </td><td>4                                                   </td><td>0.4746476967050284                                         </td><td>0.4746476967050284                                       </td><td>--                                                         </td><td>--                                                   </td><td>--                                                    </td><td>--                                                            </td><td>--                                                              </td><td>--                                                   </td><td>--                                                          </td><td>--                                                        </td></tr>\n",
       "<tr><td><i style='opacity: 0.6'>751</i></td><td>25.810063315049362  </td><td>9.9369864     </td><td>12421233       </td><td>2500                   </td><td>4.0                      </td><td>4             </td><td>0.48119990530019596  </td><td>0.48119990530019596</td><td>--                                                   </td><td>--                                             </td><td>--                                              </td><td>--                                                      </td><td>--                                                        </td><td>--                                             </td><td>--                                                    </td><td>--                                                  </td><td>of2x1_single_left_Melange025pcBigFins </td><td>25.810063315049362                                        </td><td>9.9369864                                           </td><td>12421233                                             </td><td>2500                                                         </td><td>4.0                                                            </td><td>4                                                   </td><td>0.48119990530019596                                        </td><td>0.48119990530019596                                      </td><td>--                                                         </td><td>--                                                   </td><td>--                                                    </td><td>--                                                            </td><td>--                                                              </td><td>--                                                   </td><td>--                                                          </td><td>--                                                        </td></tr>\n",
       "<tr><td><i style='opacity: 0.6'>752</i></td><td>22.8949170915292    </td><td>9.9449872     </td><td>12431234       </td><td>2500                   </td><td>4.0                      </td><td>4             </td><td>0.453211097712484    </td><td>0.453211097712484  </td><td>--                                                   </td><td>--                                             </td><td>--                                              </td><td>--                                                      </td><td>--                                                        </td><td>--                                             </td><td>--                                                    </td><td>--                                                  </td><td>of2x1_single_left_Melange025pcBigFins </td><td>22.8949170915292                                          </td><td>9.9449872                                           </td><td>12431234                                             </td><td>2500                                                         </td><td>4.0                                                            </td><td>4                                                   </td><td>0.453211097712484                                          </td><td>0.453211097712484                                        </td><td>--                                                         </td><td>--                                                   </td><td>--                                                    </td><td>--                                                            </td><td>--                                                              </td><td>--                                                   </td><td>--                                                          </td><td>--                                                        </td></tr>\n",
       "<tr><td><i style='opacity: 0.6'>753</i></td><td>21.13588531206446   </td><td>9.944988      </td><td>12431235       </td><td>2500                   </td><td>4.0                      </td><td>4             </td><td>0.5036647378625628   </td><td>0.5036647378625628 </td><td>21.13588531206446                                    </td><td>9.944988                                       </td><td>12431235                                        </td><td>2500                                                    </td><td>4.0                                                       </td><td>4                                              </td><td>0.5036647378625628                                    </td><td>0.5036647378625628                                  </td><td>of2x1_shared_Melange025pcBigFins      </td><td>--                                                        </td><td>--                                                  </td><td>--                                                   </td><td>--                                                           </td><td>--                                                             </td><td>--                                                  </td><td>--                                                         </td><td>--                                                       </td><td>--                                                         </td><td>--                                                   </td><td>--                                                    </td><td>--                                                            </td><td>--                                                              </td><td>--                                                   </td><td>--                                                          </td><td>--                                                        </td></tr>\n",
       "</tbody>\n",
       "</table>"
      ],
      "text/plain": [
       "#    trigger_delta_chi2    trigger_time    trigger_index    trigger_pileup_window    trigger_threshold_sigma    trigger_type    trigger_amplitude_0    trigger_amplitude    trigger_delta_chi2_of2x1_shared_Melange025pcBigFins    trigger_time_of2x1_shared_Melange025pcBigFins    trigger_index_of2x1_shared_Melange025pcBigFins    trigger_pileup_window_of2x1_shared_Melange025pcBigFins    trigger_threshold_sigma_of2x1_shared_Melange025pcBigFins    trigger_type_of2x1_shared_Melange025pcBigFins    trigger_amplitude_0_of2x1_shared_Melange025pcBigFins    trigger_amplitude_of2x1_shared_Melange025pcBigFins    trigger_channel                         trigger_delta_chi2_of2x1_single_left_Melange025pcBigFins    trigger_time_of2x1_single_left_Melange025pcBigFins    trigger_index_of2x1_single_left_Melange025pcBigFins    trigger_pileup_window_of2x1_single_left_Melange025pcBigFins    trigger_threshold_sigma_of2x1_single_left_Melange025pcBigFins    trigger_type_of2x1_single_left_Melange025pcBigFins    trigger_amplitude_0_of2x1_single_left_Melange025pcBigFins    trigger_amplitude_of2x1_single_left_Melange025pcBigFins    trigger_delta_chi2_of2x1_single_right_Melange025pcBigFins    trigger_time_of2x1_single_right_Melange025pcBigFins    trigger_index_of2x1_single_right_Melange025pcBigFins    trigger_pileup_window_of2x1_single_right_Melange025pcBigFins    trigger_threshold_sigma_of2x1_single_right_Melange025pcBigFins    trigger_type_of2x1_single_right_Melange025pcBigFins    trigger_amplitude_0_of2x1_single_right_Melange025pcBigFins    trigger_amplitude_of2x1_single_right_Melange025pcBigFins\n",
       "0    16.158275875109712    0.0209832       26229            2500                     4.0                        4               -0.2571636193816802    -0.2571636193816802  --                                                     --                                               --                                                --                                                        --                                                          --                                               --                                                      --                                                    of2x1_single_right_Melange025pcBigFins  --                                                          --                                                    --                                                     --                                                             --                                                               --                                                    --                                                           --                                                         16.158275875109712                                           0.0209832                                              26229                                                   2500                                                            4.0                                                               4                                                      -0.2571636193816802                                           -0.2571636193816802\n",
       "1    16.503576980034524    0.0426264       53283            2500                     4.0                        4               -0.2598968775151653    -0.2598968775151653  --                                                     --                                               --                                                --                                                        --                                                          --                                               --                                                      --                                                    of2x1_single_right_Melange025pcBigFins  --                                                          --                                                    --                                                     --                                                             --                                                               --                                                    --                                                           --                                                         16.503576980034524                                           0.0426264                                              53283                                                   2500                                                            4.0                                                               4                                                      -0.2598968775151653                                           -0.2598968775151653\n",
       "2    94.96402265535968     0.0470024       58753            2500                     4.0                        4               0.6234355619412482     0.6234355619412482   --                                                     --                                               --                                                --                                                        --                                                          --                                               --                                                      --                                                    of2x1_single_right_Melange025pcBigFins  --                                                          --                                                    --                                                     --                                                             --                                                               --                                                    --                                                           --                                                         94.96402265535968                                            0.0470024                                              58753                                                   2500                                                            4.0                                                               4                                                      0.6234355619412482                                            0.6234355619412482\n",
       "3    17.885691273387035    0.06472         80900            2500                     4.0                        4               -0.2705608067288591    -0.2705608067288591  --                                                     --                                               --                                                --                                                        --                                                          --                                               --                                                      --                                                    of2x1_single_right_Melange025pcBigFins  --                                                          --                                                    --                                                     --                                                             --                                                               --                                                    --                                                           --                                                         17.885691273387035                                           0.06472                                                80900                                                   2500                                                            4.0                                                               4                                                      -0.2705608067288591                                           -0.2705608067288591\n",
       "4    26.06511733272973     0.06866         85825            2500                     4.0                        4               0.5593210531940085     0.5593210531940085   26.06511733272973                                      0.06866                                          85825                                             2500                                                      4.0                                                         4                                                0.5593210531940085                                      0.5593210531940085                                    of2x1_shared_Melange025pcBigFins        --                                                          --                                                    --                                                     --                                                             --                                                               --                                                    --                                                           --                                                         --                                                           --                                                     --                                                      --                                                              --                                                                --                                                     --                                                            --\n",
       "...  ...                   ...             ...              ...                      ...                        ...             ...                    ...                  ...                                                    ...                                              ...                                               ...                                                       ...                                                         ...                                              ...                                                     ...                                                   ...                                     ...                                                         ...                                                   ...                                                    ...                                                            ...                                                              ...                                                   ...                                                          ...                                                        ...                                                          ...                                                    ...                                                     ...                                                             ...                                                               ...                                                    ...                                                           ...\n",
       "749  20.204127303522412    9.9318456       12414807         2500                     4.0                        4               0.49243778907309493    0.49243778907309493  20.204127303522412                                     9.9318456                                        12414807                                          2500                                                      4.0                                                         4                                                0.49243778907309493                                     0.49243778907309493                                   of2x1_shared_Melange025pcBigFins        --                                                          --                                                    --                                                     --                                                             --                                                               --                                                    --                                                           --                                                         --                                                           --                                                     --                                                      --                                                              --                                                                --                                                     --                                                            --\n",
       "750  25.111968562381747    9.9318488       12414811         2500                     4.0                        4               0.4746476967050284     0.4746476967050284   --                                                     --                                               --                                                --                                                        --                                                          --                                               --                                                      --                                                    of2x1_single_left_Melange025pcBigFins   25.111968562381747                                          9.9318488                                             12414811                                               2500                                                           4.0                                                              4                                                     0.4746476967050284                                           0.4746476967050284                                         --                                                           --                                                     --                                                      --                                                              --                                                                --                                                     --                                                            --\n",
       "751  25.810063315049362    9.9369864       12421233         2500                     4.0                        4               0.48119990530019596    0.48119990530019596  --                                                     --                                               --                                                --                                                        --                                                          --                                               --                                                      --                                                    of2x1_single_left_Melange025pcBigFins   25.810063315049362                                          9.9369864                                             12421233                                               2500                                                           4.0                                                              4                                                     0.48119990530019596                                          0.48119990530019596                                        --                                                           --                                                     --                                                      --                                                              --                                                                --                                                     --                                                            --\n",
       "752  22.8949170915292      9.9449872       12431234         2500                     4.0                        4               0.453211097712484      0.453211097712484    --                                                     --                                               --                                                --                                                        --                                                          --                                               --                                                      --                                                    of2x1_single_left_Melange025pcBigFins   22.8949170915292                                            9.9449872                                             12431234                                               2500                                                           4.0                                                              4                                                     0.453211097712484                                            0.453211097712484                                          --                                                           --                                                     --                                                      --                                                              --                                                                --                                                     --                                                            --\n",
       "753  21.13588531206446     9.944988        12431235         2500                     4.0                        4               0.5036647378625628     0.5036647378625628   21.13588531206446                                      9.944988                                         12431235                                          2500                                                      4.0                                                         4                                                0.5036647378625628                                      0.5036647378625628                                    of2x1_shared_Melange025pcBigFins        --                                                          --                                                    --                                                     --                                                             --                                                               --                                                    --                                                           --                                                         --                                                           --                                                     --                                                      --                                                              --                                                                --                                                     --                                                            --"
      ]
     },
     "execution_count": 10,
     "metadata": {},
     "output_type": "execute_result"
    }
   ],
   "source": [
    "df = evtbuilder_obj.get_event_df()\n",
    "\n",
    "# check time difference\n",
    "trigger_times = df['trigger_time'].values\n",
    "time_differences = np.diff(trigger_times)\n",
    "max_diff = np.max(time_differences)\n",
    "min_diff  = np.min(time_differences)\n",
    "\n",
    "print(f'Maximum time between adjacent triggers = {max_diff*1e3} msec')\n",
    "print(f'Minimum time between adjacent triggers = {min_diff*1e3} msec\\n')\n",
    "\n",
    "df"
   ]
  },
  {
   "cell_type": "markdown",
   "id": "ea81dfc9-ef70-4487-a76b-01eb64e4efe3",
   "metadata": {},
   "source": [
    "### Merge coincident triggers"
   ]
  },
  {
   "cell_type": "code",
   "execution_count": 11,
   "id": "d185d0a8-eae9-4f18-a6a0-cc1e5410cc75",
   "metadata": {},
   "outputs": [
    {
     "name": "stdout",
     "output_type": "stream",
     "text": [
      "Coincident window = 0.25 msec\n"
     ]
    }
   ],
   "source": [
    "# get config\n",
    "coincident_window_msec = trigger_config['overall']['coincident_window_msec']\n",
    "print(f'Coincident window = {coincident_window_msec} msec')\n",
    "\n",
    "# merge coincident triggers\n",
    "evtbuilder_obj.build_event(\n",
    "    trace_admin,\n",
    "    fs=sample_rate,\n",
    "    coincident_window_msec=coincident_window_msec,\n",
    ")"
   ]
  },
  {
   "cell_type": "markdown",
   "id": "cf4cd8a6-6d3e-43d9-9924-ab63825d8573",
   "metadata": {},
   "source": [
    "### Dataframe **after** merging coincident triggers"
   ]
  },
  {
   "cell_type": "code",
   "execution_count": 12,
   "id": "f7deaa13-8128-4cc4-908f-180c6c406564",
   "metadata": {},
   "outputs": [
    {
     "name": "stdout",
     "output_type": "stream",
     "text": [
      "Maximum time between adjacent triggers = 125.51519999999994 msec\n",
      "Minimum time between adjacent triggers = 0.27119999999936084 msec\n",
      "\n"
     ]
    },
    {
     "data": {
      "text/html": [
       "<table>\n",
       "<thead>\n",
       "<tr><th>#                              </th><th>trigger_delta_chi2  </th><th>trigger_time  </th><th>trigger_index  </th><th>trigger_pileup_window  </th><th>trigger_threshold_sigma  </th><th>trigger_type  </th><th>trigger_amplitude_0  </th><th>trigger_amplitude   </th><th>trigger_delta_chi2_of2x1_shared_Melange025pcBigFins  </th><th>trigger_time_of2x1_shared_Melange025pcBigFins  </th><th>trigger_index_of2x1_shared_Melange025pcBigFins  </th><th>trigger_pileup_window_of2x1_shared_Melange025pcBigFins  </th><th>trigger_threshold_sigma_of2x1_shared_Melange025pcBigFins  </th><th>trigger_type_of2x1_shared_Melange025pcBigFins  </th><th>trigger_amplitude_0_of2x1_shared_Melange025pcBigFins  </th><th>trigger_amplitude_of2x1_shared_Melange025pcBigFins  </th><th>trigger_channel                       </th><th>trigger_delta_chi2_of2x1_single_left_Melange025pcBigFins  </th><th>trigger_time_of2x1_single_left_Melange025pcBigFins  </th><th>trigger_index_of2x1_single_left_Melange025pcBigFins  </th><th>trigger_pileup_window_of2x1_single_left_Melange025pcBigFins  </th><th>trigger_threshold_sigma_of2x1_single_left_Melange025pcBigFins  </th><th>trigger_type_of2x1_single_left_Melange025pcBigFins  </th><th>trigger_amplitude_0_of2x1_single_left_Melange025pcBigFins  </th><th>trigger_amplitude_of2x1_single_left_Melange025pcBigFins  </th><th>trigger_delta_chi2_of2x1_single_right_Melange025pcBigFins  </th><th>trigger_time_of2x1_single_right_Melange025pcBigFins  </th><th>trigger_index_of2x1_single_right_Melange025pcBigFins  </th><th>trigger_pileup_window_of2x1_single_right_Melange025pcBigFins  </th><th>trigger_threshold_sigma_of2x1_single_right_Melange025pcBigFins  </th><th>trigger_type_of2x1_single_right_Melange025pcBigFins  </th><th>trigger_amplitude_0_of2x1_single_right_Melange025pcBigFins  </th><th>trigger_amplitude_of2x1_single_right_Melange025pcBigFins  </th><th>processing_id  </th><th>data_type  </th><th>group_name                     </th><th>series_number  </th><th>event_number  </th><th>dump_number  </th><th>series_start_time  </th><th>group_start_time  </th><th>fridge_run_start_time  </th><th>fridge_run_number  </th><th>event_time  </th><th>trigger_prod_id  </th></tr>\n",
       "</thead>\n",
       "<tbody>\n",
       "<tr><td><i style='opacity: 0.6'>0</i>  </td><td>16.158275875109712  </td><td>0.0209832     </td><td>26229          </td><td>2500                   </td><td>4.0                      </td><td>4             </td><td>-0.2571636193816802  </td><td>-0.2571636193816802 </td><td>nan                                                  </td><td>nan                                            </td><td>nan                                             </td><td>nan                                                     </td><td>nan                                                       </td><td>nan                                            </td><td>nan                                                   </td><td>nan                                                 </td><td>of2x1_single_right_Melange025pcBigFins</td><td>nan                                                       </td><td>nan                                                 </td><td>nan                                                  </td><td>nan                                                          </td><td>nan                                                            </td><td>nan                                                 </td><td>nan                                                        </td><td>nan                                                      </td><td>16.158275875109712                                         </td><td>0.0209832                                            </td><td>26229.0                                               </td><td>2500.0                                                        </td><td>4.0                                                             </td><td>4.0                                                  </td><td>-0.2571636193816802                                         </td><td>-0.2571636193816802                                       </td><td>--             </td><td>Test       </td><td>continuous_I2_D20240719_T172034</td><td>220240719172554</td><td>500002        </td><td>5            </td><td>1721435616         </td><td>1721435616        </td><td>1721435616             </td><td>47                 </td><td>1721435615  </td><td>1                </td></tr>\n",
       "<tr><td><i style='opacity: 0.6'>1</i>  </td><td>16.503576980034524  </td><td>0.0426264     </td><td>53283          </td><td>2500                   </td><td>4.0                      </td><td>4             </td><td>-0.2598968775151653  </td><td>-0.2598968775151653 </td><td>nan                                                  </td><td>nan                                            </td><td>nan                                             </td><td>nan                                                     </td><td>nan                                                       </td><td>nan                                            </td><td>nan                                                   </td><td>nan                                                 </td><td>of2x1_single_right_Melange025pcBigFins</td><td>nan                                                       </td><td>nan                                                 </td><td>nan                                                  </td><td>nan                                                          </td><td>nan                                                            </td><td>nan                                                 </td><td>nan                                                        </td><td>nan                                                      </td><td>16.503576980034524                                         </td><td>0.0426264                                            </td><td>53283.0                                               </td><td>2500.0                                                        </td><td>4.0                                                             </td><td>4.0                                                  </td><td>-0.2598968775151653                                         </td><td>-0.2598968775151653                                       </td><td>--             </td><td>Test       </td><td>continuous_I2_D20240719_T172034</td><td>220240719172554</td><td>500002        </td><td>5            </td><td>1721435616         </td><td>1721435616        </td><td>1721435616             </td><td>47                 </td><td>1721435615  </td><td>2                </td></tr>\n",
       "<tr><td><i style='opacity: 0.6'>2</i>  </td><td>94.96402265535968   </td><td>0.0470024     </td><td>58753          </td><td>2500                   </td><td>4.0                      </td><td>4             </td><td>0.6234355619412482   </td><td>0.6234355619412482  </td><td>nan                                                  </td><td>nan                                            </td><td>nan                                             </td><td>nan                                                     </td><td>nan                                                       </td><td>nan                                            </td><td>nan                                                   </td><td>nan                                                 </td><td>of2x1_single_right_Melange025pcBigFins</td><td>nan                                                       </td><td>nan                                                 </td><td>nan                                                  </td><td>nan                                                          </td><td>nan                                                            </td><td>nan                                                 </td><td>nan                                                        </td><td>nan                                                      </td><td>94.96402265535968                                          </td><td>0.0470024                                            </td><td>58753.0                                               </td><td>2500.0                                                        </td><td>4.0                                                             </td><td>4.0                                                  </td><td>0.6234355619412482                                          </td><td>0.6234355619412482                                        </td><td>--             </td><td>Test       </td><td>continuous_I2_D20240719_T172034</td><td>220240719172554</td><td>500002        </td><td>5            </td><td>1721435616         </td><td>1721435616        </td><td>1721435616             </td><td>47                 </td><td>1721435615  </td><td>3                </td></tr>\n",
       "<tr><td><i style='opacity: 0.6'>3</i>  </td><td>17.885691273387035  </td><td>0.06472       </td><td>80900          </td><td>2500                   </td><td>4.0                      </td><td>4             </td><td>-0.2705608067288591  </td><td>-0.2705608067288591 </td><td>nan                                                  </td><td>nan                                            </td><td>nan                                             </td><td>nan                                                     </td><td>nan                                                       </td><td>nan                                            </td><td>nan                                                   </td><td>nan                                                 </td><td>of2x1_single_right_Melange025pcBigFins</td><td>nan                                                       </td><td>nan                                                 </td><td>nan                                                  </td><td>nan                                                          </td><td>nan                                                            </td><td>nan                                                 </td><td>nan                                                        </td><td>nan                                                      </td><td>17.885691273387035                                         </td><td>0.06472                                              </td><td>80900.0                                               </td><td>2500.0                                                        </td><td>4.0                                                             </td><td>4.0                                                  </td><td>-0.2705608067288591                                         </td><td>-0.2705608067288591                                       </td><td>--             </td><td>Test       </td><td>continuous_I2_D20240719_T172034</td><td>220240719172554</td><td>500002        </td><td>5            </td><td>1721435616         </td><td>1721435616        </td><td>1721435616             </td><td>47                 </td><td>1721435615  </td><td>4                </td></tr>\n",
       "<tr><td><i style='opacity: 0.6'>4</i>  </td><td>26.06511733272973   </td><td>0.06866       </td><td>85825          </td><td>2500                   </td><td>4.0                      </td><td>4             </td><td>0.5593210531940085   </td><td>0.5593210531940085  </td><td>26.06511733272973                                    </td><td>0.06866                                        </td><td>85825.0                                         </td><td>2500.0                                                  </td><td>4.0                                                       </td><td>4.0                                            </td><td>0.5593210531940085                                    </td><td>0.5593210531940085                                  </td><td>of2x1_shared_Melange025pcBigFins      </td><td>nan                                                       </td><td>nan                                                 </td><td>nan                                                  </td><td>nan                                                          </td><td>nan                                                            </td><td>nan                                                 </td><td>nan                                                        </td><td>nan                                                      </td><td>nan                                                        </td><td>nan                                                  </td><td>nan                                                   </td><td>nan                                                           </td><td>nan                                                             </td><td>nan                                                  </td><td>nan                                                         </td><td>nan                                                       </td><td>--             </td><td>Test       </td><td>continuous_I2_D20240719_T172034</td><td>220240719172554</td><td>500002        </td><td>5            </td><td>1721435616         </td><td>1721435616        </td><td>1721435616             </td><td>47                 </td><td>1721435615  </td><td>5                </td></tr>\n",
       "<tr><td>...                            </td><td>...                 </td><td>...           </td><td>...            </td><td>...                    </td><td>...                      </td><td>...           </td><td>...                  </td><td>...                 </td><td>...                                                  </td><td>...                                            </td><td>...                                             </td><td>...                                                     </td><td>...                                                       </td><td>...                                            </td><td>...                                                   </td><td>...                                                 </td><td>...                                   </td><td>...                                                       </td><td>...                                                 </td><td>...                                                  </td><td>...                                                          </td><td>...                                                            </td><td>...                                                 </td><td>...                                                        </td><td>...                                                      </td><td>...                                                        </td><td>...                                                  </td><td>...                                                   </td><td>...                                                           </td><td>...                                                             </td><td>...                                                  </td><td>...                                                         </td><td>...                                                       </td><td>...            </td><td>...        </td><td>...                            </td><td>...            </td><td>...           </td><td>...          </td><td>...                </td><td>...               </td><td>...                    </td><td>...                </td><td>...         </td><td>...              </td></tr>\n",
       "<tr><td><i style='opacity: 0.6'>637</i></td><td>18.403982299960305  </td><td>9.9128344     </td><td>12391043       </td><td>2500                   </td><td>4.0                      </td><td>4             </td><td>-0.2744529628774232  </td><td>-0.2744529628774232 </td><td>nan                                                  </td><td>nan                                            </td><td>nan                                             </td><td>nan                                                     </td><td>nan                                                       </td><td>nan                                            </td><td>nan                                                   </td><td>nan                                                 </td><td>of2x1_single_right_Melange025pcBigFins</td><td>nan                                                       </td><td>nan                                                 </td><td>nan                                                  </td><td>nan                                                          </td><td>nan                                                            </td><td>nan                                                 </td><td>nan                                                        </td><td>nan                                                      </td><td>18.403982299960305                                         </td><td>9.9128344                                            </td><td>12391043.0                                            </td><td>2500.0                                                        </td><td>4.0                                                             </td><td>4.0                                                  </td><td>-0.2744529628774232                                         </td><td>-0.2744529628774232                                       </td><td>--             </td><td>Test       </td><td>continuous_I2_D20240719_T172034</td><td>220240719172554</td><td>500002        </td><td>5            </td><td>1721435626         </td><td>1721435626        </td><td>1721435626             </td><td>47                 </td><td>1721435625  </td><td>638              </td></tr>\n",
       "<tr><td><i style='opacity: 0.6'>638</i></td><td>16.758751337223483  </td><td>9.9187496     </td><td>12398437       </td><td>2500                   </td><td>4.0                      </td><td>4             </td><td>-0.26189840207612713 </td><td>-0.26189840207612713</td><td>nan                                                  </td><td>nan                                            </td><td>nan                                             </td><td>nan                                                     </td><td>nan                                                       </td><td>nan                                            </td><td>nan                                                   </td><td>nan                                                 </td><td>of2x1_single_right_Melange025pcBigFins</td><td>nan                                                       </td><td>nan                                                 </td><td>nan                                                  </td><td>nan                                                          </td><td>nan                                                            </td><td>nan                                                 </td><td>nan                                                        </td><td>nan                                                      </td><td>16.758751337223483                                         </td><td>9.9187496                                            </td><td>12398437.0                                            </td><td>2500.0                                                        </td><td>4.0                                                             </td><td>4.0                                                  </td><td>-0.26189840207612713                                        </td><td>-0.26189840207612713                                      </td><td>--             </td><td>Test       </td><td>continuous_I2_D20240719_T172034</td><td>220240719172554</td><td>500002        </td><td>5            </td><td>1721435626         </td><td>1721435626        </td><td>1721435626             </td><td>47                 </td><td>1721435625  </td><td>639              </td></tr>\n",
       "<tr><td><i style='opacity: 0.6'>639</i></td><td>25.111968562381747  </td><td>9.9318488     </td><td>12414811       </td><td>2500                   </td><td>4.0                      </td><td>4             </td><td>0.4746476967050284   </td><td>0.4746476967050284  </td><td>20.204127303522412                                   </td><td>9.9318456                                      </td><td>12414807.0                                      </td><td>2500.0                                                  </td><td>4.0                                                       </td><td>4.0                                            </td><td>0.49243778907309493                                   </td><td>0.49243778907309493                                 </td><td>of2x1_single_left_Melange025pcBigFins </td><td>25.111968562381747                                        </td><td>9.9318488                                           </td><td>12414811.0                                           </td><td>2500.0                                                       </td><td>4.0                                                            </td><td>4.0                                                 </td><td>0.4746476967050284                                         </td><td>0.4746476967050284                                       </td><td>nan                                                        </td><td>nan                                                  </td><td>nan                                                   </td><td>nan                                                           </td><td>nan                                                             </td><td>nan                                                  </td><td>nan                                                         </td><td>nan                                                       </td><td>--             </td><td>Test       </td><td>continuous_I2_D20240719_T172034</td><td>220240719172554</td><td>500002        </td><td>5            </td><td>1721435626         </td><td>1721435626        </td><td>1721435626             </td><td>47                 </td><td>1721435625  </td><td>640              </td></tr>\n",
       "<tr><td><i style='opacity: 0.6'>640</i></td><td>25.810063315049362  </td><td>9.9369864     </td><td>12421233       </td><td>2500                   </td><td>4.0                      </td><td>4             </td><td>0.48119990530019596  </td><td>0.48119990530019596 </td><td>nan                                                  </td><td>nan                                            </td><td>nan                                             </td><td>nan                                                     </td><td>nan                                                       </td><td>nan                                            </td><td>nan                                                   </td><td>nan                                                 </td><td>of2x1_single_left_Melange025pcBigFins </td><td>25.810063315049362                                        </td><td>9.9369864                                           </td><td>12421233.0                                           </td><td>2500.0                                                       </td><td>4.0                                                            </td><td>4.0                                                 </td><td>0.48119990530019596                                        </td><td>0.48119990530019596                                      </td><td>nan                                                        </td><td>nan                                                  </td><td>nan                                                   </td><td>nan                                                           </td><td>nan                                                             </td><td>nan                                                  </td><td>nan                                                         </td><td>nan                                                       </td><td>--             </td><td>Test       </td><td>continuous_I2_D20240719_T172034</td><td>220240719172554</td><td>500002        </td><td>5            </td><td>1721435626         </td><td>1721435626        </td><td>1721435626             </td><td>47                 </td><td>1721435625  </td><td>641              </td></tr>\n",
       "<tr><td><i style='opacity: 0.6'>641</i></td><td>22.8949170915292    </td><td>9.9449872     </td><td>12431234       </td><td>2500                   </td><td>4.0                      </td><td>4             </td><td>0.453211097712484    </td><td>0.453211097712484   </td><td>21.13588531206446                                    </td><td>9.944988                                       </td><td>12431235.0                                      </td><td>2500.0                                                  </td><td>4.0                                                       </td><td>4.0                                            </td><td>0.5036647378625628                                    </td><td>0.5036647378625628                                  </td><td>of2x1_single_left_Melange025pcBigFins </td><td>22.8949170915292                                          </td><td>9.9449872                                           </td><td>12431234.0                                           </td><td>2500.0                                                       </td><td>4.0                                                            </td><td>4.0                                                 </td><td>0.453211097712484                                          </td><td>0.453211097712484                                        </td><td>nan                                                        </td><td>nan                                                  </td><td>nan                                                   </td><td>nan                                                           </td><td>nan                                                             </td><td>nan                                                  </td><td>nan                                                         </td><td>nan                                                       </td><td>--             </td><td>Test       </td><td>continuous_I2_D20240719_T172034</td><td>220240719172554</td><td>500002        </td><td>5            </td><td>1721435626         </td><td>1721435626        </td><td>1721435626             </td><td>47                 </td><td>1721435625  </td><td>642              </td></tr>\n",
       "</tbody>\n",
       "</table>"
      ],
      "text/plain": [
       "#    trigger_delta_chi2    trigger_time    trigger_index    trigger_pileup_window    trigger_threshold_sigma    trigger_type    trigger_amplitude_0    trigger_amplitude     trigger_delta_chi2_of2x1_shared_Melange025pcBigFins    trigger_time_of2x1_shared_Melange025pcBigFins    trigger_index_of2x1_shared_Melange025pcBigFins    trigger_pileup_window_of2x1_shared_Melange025pcBigFins    trigger_threshold_sigma_of2x1_shared_Melange025pcBigFins    trigger_type_of2x1_shared_Melange025pcBigFins    trigger_amplitude_0_of2x1_shared_Melange025pcBigFins    trigger_amplitude_of2x1_shared_Melange025pcBigFins    trigger_channel                         trigger_delta_chi2_of2x1_single_left_Melange025pcBigFins    trigger_time_of2x1_single_left_Melange025pcBigFins    trigger_index_of2x1_single_left_Melange025pcBigFins    trigger_pileup_window_of2x1_single_left_Melange025pcBigFins    trigger_threshold_sigma_of2x1_single_left_Melange025pcBigFins    trigger_type_of2x1_single_left_Melange025pcBigFins    trigger_amplitude_0_of2x1_single_left_Melange025pcBigFins    trigger_amplitude_of2x1_single_left_Melange025pcBigFins    trigger_delta_chi2_of2x1_single_right_Melange025pcBigFins    trigger_time_of2x1_single_right_Melange025pcBigFins    trigger_index_of2x1_single_right_Melange025pcBigFins    trigger_pileup_window_of2x1_single_right_Melange025pcBigFins    trigger_threshold_sigma_of2x1_single_right_Melange025pcBigFins    trigger_type_of2x1_single_right_Melange025pcBigFins    trigger_amplitude_0_of2x1_single_right_Melange025pcBigFins    trigger_amplitude_of2x1_single_right_Melange025pcBigFins    processing_id    data_type    group_name                       series_number    event_number    dump_number    series_start_time    group_start_time    fridge_run_start_time    fridge_run_number    event_time    trigger_prod_id\n",
       "0    16.158275875109712    0.0209832       26229            2500                     4.0                        4               -0.2571636193816802    -0.2571636193816802   nan                                                    nan                                              nan                                               nan                                                       nan                                                         nan                                              nan                                                     nan                                                   of2x1_single_right_Melange025pcBigFins  nan                                                         nan                                                   nan                                                    nan                                                            nan                                                              nan                                                   nan                                                          nan                                                        16.158275875109712                                           0.0209832                                              26229.0                                                 2500.0                                                          4.0                                                               4.0                                                    -0.2571636193816802                                           -0.2571636193816802                                         --               Test         continuous_I2_D20240719_T172034  220240719172554  500002          5              1721435616           1721435616          1721435616               47                   1721435615    1\n",
       "1    16.503576980034524    0.0426264       53283            2500                     4.0                        4               -0.2598968775151653    -0.2598968775151653   nan                                                    nan                                              nan                                               nan                                                       nan                                                         nan                                              nan                                                     nan                                                   of2x1_single_right_Melange025pcBigFins  nan                                                         nan                                                   nan                                                    nan                                                            nan                                                              nan                                                   nan                                                          nan                                                        16.503576980034524                                           0.0426264                                              53283.0                                                 2500.0                                                          4.0                                                               4.0                                                    -0.2598968775151653                                           -0.2598968775151653                                         --               Test         continuous_I2_D20240719_T172034  220240719172554  500002          5              1721435616           1721435616          1721435616               47                   1721435615    2\n",
       "2    94.96402265535968     0.0470024       58753            2500                     4.0                        4               0.6234355619412482     0.6234355619412482    nan                                                    nan                                              nan                                               nan                                                       nan                                                         nan                                              nan                                                     nan                                                   of2x1_single_right_Melange025pcBigFins  nan                                                         nan                                                   nan                                                    nan                                                            nan                                                              nan                                                   nan                                                          nan                                                        94.96402265535968                                            0.0470024                                              58753.0                                                 2500.0                                                          4.0                                                               4.0                                                    0.6234355619412482                                            0.6234355619412482                                          --               Test         continuous_I2_D20240719_T172034  220240719172554  500002          5              1721435616           1721435616          1721435616               47                   1721435615    3\n",
       "3    17.885691273387035    0.06472         80900            2500                     4.0                        4               -0.2705608067288591    -0.2705608067288591   nan                                                    nan                                              nan                                               nan                                                       nan                                                         nan                                              nan                                                     nan                                                   of2x1_single_right_Melange025pcBigFins  nan                                                         nan                                                   nan                                                    nan                                                            nan                                                              nan                                                   nan                                                          nan                                                        17.885691273387035                                           0.06472                                                80900.0                                                 2500.0                                                          4.0                                                               4.0                                                    -0.2705608067288591                                           -0.2705608067288591                                         --               Test         continuous_I2_D20240719_T172034  220240719172554  500002          5              1721435616           1721435616          1721435616               47                   1721435615    4\n",
       "4    26.06511733272973     0.06866         85825            2500                     4.0                        4               0.5593210531940085     0.5593210531940085    26.06511733272973                                      0.06866                                          85825.0                                           2500.0                                                    4.0                                                         4.0                                              0.5593210531940085                                      0.5593210531940085                                    of2x1_shared_Melange025pcBigFins        nan                                                         nan                                                   nan                                                    nan                                                            nan                                                              nan                                                   nan                                                          nan                                                        nan                                                          nan                                                    nan                                                     nan                                                             nan                                                               nan                                                    nan                                                           nan                                                         --               Test         continuous_I2_D20240719_T172034  220240719172554  500002          5              1721435616           1721435616          1721435616               47                   1721435615    5\n",
       "...  ...                   ...             ...              ...                      ...                        ...             ...                    ...                   ...                                                    ...                                              ...                                               ...                                                       ...                                                         ...                                              ...                                                     ...                                                   ...                                     ...                                                         ...                                                   ...                                                    ...                                                            ...                                                              ...                                                   ...                                                          ...                                                        ...                                                          ...                                                    ...                                                     ...                                                             ...                                                               ...                                                    ...                                                           ...                                                         ...              ...          ...                              ...              ...             ...            ...                  ...                 ...                      ...                  ...           ...\n",
       "637  18.403982299960305    9.9128344       12391043         2500                     4.0                        4               -0.2744529628774232    -0.2744529628774232   nan                                                    nan                                              nan                                               nan                                                       nan                                                         nan                                              nan                                                     nan                                                   of2x1_single_right_Melange025pcBigFins  nan                                                         nan                                                   nan                                                    nan                                                            nan                                                              nan                                                   nan                                                          nan                                                        18.403982299960305                                           9.9128344                                              12391043.0                                              2500.0                                                          4.0                                                               4.0                                                    -0.2744529628774232                                           -0.2744529628774232                                         --               Test         continuous_I2_D20240719_T172034  220240719172554  500002          5              1721435626           1721435626          1721435626               47                   1721435625    638\n",
       "638  16.758751337223483    9.9187496       12398437         2500                     4.0                        4               -0.26189840207612713   -0.26189840207612713  nan                                                    nan                                              nan                                               nan                                                       nan                                                         nan                                              nan                                                     nan                                                   of2x1_single_right_Melange025pcBigFins  nan                                                         nan                                                   nan                                                    nan                                                            nan                                                              nan                                                   nan                                                          nan                                                        16.758751337223483                                           9.9187496                                              12398437.0                                              2500.0                                                          4.0                                                               4.0                                                    -0.26189840207612713                                          -0.26189840207612713                                        --               Test         continuous_I2_D20240719_T172034  220240719172554  500002          5              1721435626           1721435626          1721435626               47                   1721435625    639\n",
       "639  25.111968562381747    9.9318488       12414811         2500                     4.0                        4               0.4746476967050284     0.4746476967050284    20.204127303522412                                     9.9318456                                        12414807.0                                        2500.0                                                    4.0                                                         4.0                                              0.49243778907309493                                     0.49243778907309493                                   of2x1_single_left_Melange025pcBigFins   25.111968562381747                                          9.9318488                                             12414811.0                                             2500.0                                                         4.0                                                              4.0                                                   0.4746476967050284                                           0.4746476967050284                                         nan                                                          nan                                                    nan                                                     nan                                                             nan                                                               nan                                                    nan                                                           nan                                                         --               Test         continuous_I2_D20240719_T172034  220240719172554  500002          5              1721435626           1721435626          1721435626               47                   1721435625    640\n",
       "640  25.810063315049362    9.9369864       12421233         2500                     4.0                        4               0.48119990530019596    0.48119990530019596   nan                                                    nan                                              nan                                               nan                                                       nan                                                         nan                                              nan                                                     nan                                                   of2x1_single_left_Melange025pcBigFins   25.810063315049362                                          9.9369864                                             12421233.0                                             2500.0                                                         4.0                                                              4.0                                                   0.48119990530019596                                          0.48119990530019596                                        nan                                                          nan                                                    nan                                                     nan                                                             nan                                                               nan                                                    nan                                                           nan                                                         --               Test         continuous_I2_D20240719_T172034  220240719172554  500002          5              1721435626           1721435626          1721435626               47                   1721435625    641\n",
       "641  22.8949170915292      9.9449872       12431234         2500                     4.0                        4               0.453211097712484      0.453211097712484     21.13588531206446                                      9.944988                                         12431235.0                                        2500.0                                                    4.0                                                         4.0                                              0.5036647378625628                                      0.5036647378625628                                    of2x1_single_left_Melange025pcBigFins   22.8949170915292                                            9.9449872                                             12431234.0                                             2500.0                                                         4.0                                                              4.0                                                   0.453211097712484                                            0.453211097712484                                          nan                                                          nan                                                    nan                                                     nan                                                             nan                                                               nan                                                    nan                                                           nan                                                         --               Test         continuous_I2_D20240719_T172034  220240719172554  500002          5              1721435626           1721435626          1721435626               47                   1721435625    642"
      ]
     },
     "execution_count": 12,
     "metadata": {},
     "output_type": "execute_result"
    }
   ],
   "source": [
    "df = evtbuilder_obj.get_event_df()\n",
    "\n",
    "# check time difference\n",
    "trigger_times = df['trigger_time'].values\n",
    "time_differences = np.diff(trigger_times)\n",
    "max_diff = np.max(time_differences)\n",
    "min_diff  = np.min(time_differences)\n",
    "\n",
    "print(f'Maximum time between adjacent triggers = {max_diff*1e3} msec')\n",
    "print(f'Minimum time between adjacent triggers = {min_diff*1e3} msec\\n')\n",
    "\n",
    "df"
   ]
  },
  {
   "cell_type": "code",
   "execution_count": null,
   "id": "3ad18c83-91f6-4640-bfcd-9c4de57cf200",
   "metadata": {},
   "outputs": [],
   "source": []
  }
 ],
 "metadata": {
  "kernelspec": {
   "display_name": "Python 3 (ipykernel)",
   "language": "python",
   "name": "python3"
  },
  "language_info": {
   "codemirror_mode": {
    "name": "ipython",
    "version": 3
   },
   "file_extension": ".py",
   "mimetype": "text/x-python",
   "name": "python",
   "nbconvert_exporter": "python",
   "pygments_lexer": "ipython3",
   "version": "3.10.15"
  }
 },
 "nbformat": 4,
 "nbformat_minor": 5
}
