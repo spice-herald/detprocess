{
 "cells": [
  {
   "cell_type": "code",
   "execution_count": 2,
   "id": "57e21caa",
   "metadata": {},
   "outputs": [],
   "source": [
    "from detprocess import Randoms"
   ]
  },
  {
   "cell_type": "code",
   "execution_count": 33,
   "id": "3ac733ed",
   "metadata": {},
   "outputs": [
    {
     "name": "stdout",
     "output_type": "stream",
     "text": [
      "INFO: Found total of 8 files from 1 different series number!\n"
     ]
    }
   ],
   "source": [
    "raw_data = '/sdata1/runs/run47/raw/continuous_I2_D20240801_T213052/'\n",
    "rand  = Randoms(raw_data)"
   ]
  },
  {
   "cell_type": "code",
   "execution_count": 42,
   "id": "8607452e",
   "metadata": {},
   "outputs": [
    {
     "name": "stdout",
     "output_type": "stream",
     "text": [
      "WARNING: Changed min separation to 367.6470588235294 milliseconds to allow requested (high) random rate!\n",
      "INFO Node #1: Acquiring randoms for series I2_D20240801_T213113\n",
      "INFO: Randoms acquisition done!\n"
     ]
    }
   ],
   "source": [
    "data = rand.process(nrandoms=960, lgc_output=True)"
   ]
  },
  {
   "cell_type": "code",
   "execution_count": 40,
   "id": "f23a916c",
   "metadata": {},
   "outputs": [
    {
     "data": {
      "text/html": [
       "<table>\n",
       "<thead>\n",
       "<tr><th>#                              </th><th>series_number  </th><th>event_number  </th><th>dump_number  </th><th>event_time  </th><th>series_start_time  </th><th>group_start_time  </th><th>fridge_run_start_time  </th><th>fridge_run_number  </th><th>trigger_index  </th><th>trigger_time  </th><th>trigger_type  </th><th>data_type  </th><th>group_name                     </th><th>processing_id  </th><th>trigger_prod_id  </th><th>trigger_prod_group_name  </th></tr>\n",
       "</thead>\n",
       "<tbody>\n",
       "<tr><td><i style='opacity: 0.6'>0</i>  </td><td>220240801213113</td><td>100001        </td><td>1            </td><td>1722573086  </td><td>13                 </td><td>33                </td><td>1758686                </td><td>47                 </td><td>861733         </td><td>0.6893864     </td><td>3             </td><td>Test       </td><td>continuous_I2_D20240801_T213052</td><td>nan            </td><td>1                </td><td>nan                      </td></tr>\n",
       "<tr><td><i style='opacity: 0.6'>1</i>  </td><td>220240801213113</td><td>100001        </td><td>1            </td><td>1722573086  </td><td>13                 </td><td>33                </td><td>1758686                </td><td>47                 </td><td>1549377        </td><td>1.2395016     </td><td>3             </td><td>Test       </td><td>continuous_I2_D20240801_T213052</td><td>nan            </td><td>2                </td><td>nan                      </td></tr>\n",
       "<tr><td><i style='opacity: 0.6'>2</i>  </td><td>220240801213113</td><td>100001        </td><td>1            </td><td>1722573087  </td><td>14                 </td><td>34                </td><td>1758687                </td><td>47                 </td><td>2284508        </td><td>1.8276064     </td><td>3             </td><td>Test       </td><td>continuous_I2_D20240801_T213052</td><td>nan            </td><td>3                </td><td>nan                      </td></tr>\n",
       "<tr><td><i style='opacity: 0.6'>3</i>  </td><td>220240801213113</td><td>100001        </td><td>1            </td><td>1722573087  </td><td>14                 </td><td>34                </td><td>1758687                </td><td>47                 </td><td>2940552        </td><td>2.3524416     </td><td>3             </td><td>Test       </td><td>continuous_I2_D20240801_T213052</td><td>nan            </td><td>4                </td><td>nan                      </td></tr>\n",
       "<tr><td><i style='opacity: 0.6'>4</i>  </td><td>220240801213113</td><td>100001        </td><td>1            </td><td>1722573088  </td><td>15                 </td><td>35                </td><td>1758688                </td><td>47                 </td><td>3632787        </td><td>2.9062296     </td><td>3             </td><td>Test       </td><td>continuous_I2_D20240801_T213052</td><td>nan            </td><td>5                </td><td>nan                      </td></tr>\n",
       "<tr><td>...                            </td><td>...            </td><td>...           </td><td>...          </td><td>...         </td><td>...                </td><td>...               </td><td>...                    </td><td>...                </td><td>...            </td><td>...           </td><td>...           </td><td>...        </td><td>...                            </td><td>...            </td><td>...              </td><td>...                      </td></tr>\n",
       "<tr><td><i style='opacity: 0.6'>715</i></td><td>220240801213113</td><td>800006        </td><td>8            </td><td>1722573562  </td><td>489                </td><td>509               </td><td>1759162                </td><td>47                 </td><td>8538530        </td><td>6.830824      </td><td>3             </td><td>Test       </td><td>continuous_I2_D20240801_T213052</td><td>nan            </td><td>716              </td><td>nan                      </td></tr>\n",
       "<tr><td><i style='opacity: 0.6'>716</i></td><td>220240801213113</td><td>800006        </td><td>8            </td><td>1722573563  </td><td>490                </td><td>510               </td><td>1759163                </td><td>47                 </td><td>9660705        </td><td>7.728564      </td><td>3             </td><td>Test       </td><td>continuous_I2_D20240801_T213052</td><td>nan            </td><td>717              </td><td>nan                      </td></tr>\n",
       "<tr><td><i style='opacity: 0.6'>717</i></td><td>220240801213113</td><td>800006        </td><td>8            </td><td>1722573563  </td><td>490                </td><td>510               </td><td>1759163                </td><td>47                 </td><td>10323422       </td><td>8.2587376     </td><td>3             </td><td>Test       </td><td>continuous_I2_D20240801_T213052</td><td>nan            </td><td>718              </td><td>nan                      </td></tr>\n",
       "<tr><td><i style='opacity: 0.6'>718</i></td><td>220240801213113</td><td>800006        </td><td>8            </td><td>1722573564  </td><td>491                </td><td>511               </td><td>1759164                </td><td>47                 </td><td>11178680       </td><td>8.942944      </td><td>3             </td><td>Test       </td><td>continuous_I2_D20240801_T213052</td><td>nan            </td><td>719              </td><td>nan                      </td></tr>\n",
       "<tr><td><i style='opacity: 0.6'>719</i></td><td>220240801213113</td><td>800006        </td><td>8            </td><td>1722573564  </td><td>491                </td><td>511               </td><td>1759164                </td><td>47                 </td><td>11834178       </td><td>9.4673424     </td><td>3             </td><td>Test       </td><td>continuous_I2_D20240801_T213052</td><td>nan            </td><td>720              </td><td>nan                      </td></tr>\n",
       "</tbody>\n",
       "</table>"
      ],
      "text/plain": [
       "#    series_number    event_number    dump_number    event_time    series_start_time    group_start_time    fridge_run_start_time    fridge_run_number    trigger_index    trigger_time    trigger_type    data_type    group_name                       processing_id    trigger_prod_id    trigger_prod_group_name\n",
       "0    220240801213113  100001          1              1722573086    13                   33                  1758686                  47                   861733           0.6893864       3               Test         continuous_I2_D20240801_T213052  nan              1                  nan\n",
       "1    220240801213113  100001          1              1722573086    13                   33                  1758686                  47                   1549377          1.2395016       3               Test         continuous_I2_D20240801_T213052  nan              2                  nan\n",
       "2    220240801213113  100001          1              1722573087    14                   34                  1758687                  47                   2284508          1.8276064       3               Test         continuous_I2_D20240801_T213052  nan              3                  nan\n",
       "3    220240801213113  100001          1              1722573087    14                   34                  1758687                  47                   2940552          2.3524416       3               Test         continuous_I2_D20240801_T213052  nan              4                  nan\n",
       "4    220240801213113  100001          1              1722573088    15                   35                  1758688                  47                   3632787          2.9062296       3               Test         continuous_I2_D20240801_T213052  nan              5                  nan\n",
       "...  ...              ...             ...            ...           ...                  ...                 ...                      ...                  ...              ...             ...             ...          ...                              ...              ...                ...\n",
       "715  220240801213113  800006          8              1722573562    489                  509                 1759162                  47                   8538530          6.830824        3               Test         continuous_I2_D20240801_T213052  nan              716                nan\n",
       "716  220240801213113  800006          8              1722573563    490                  510                 1759163                  47                   9660705          7.728564        3               Test         continuous_I2_D20240801_T213052  nan              717                nan\n",
       "717  220240801213113  800006          8              1722573563    490                  510                 1759163                  47                   10323422         8.2587376       3               Test         continuous_I2_D20240801_T213052  nan              718                nan\n",
       "718  220240801213113  800006          8              1722573564    491                  511                 1759164                  47                   11178680         8.942944        3               Test         continuous_I2_D20240801_T213052  nan              719                nan\n",
       "719  220240801213113  800006          8              1722573564    491                  511                 1759164                  47                   11834178         9.4673424       3               Test         continuous_I2_D20240801_T213052  nan              720                nan"
      ]
     },
     "execution_count": 40,
     "metadata": {},
     "output_type": "execute_result"
    }
   ],
   "source": [
    "data"
   ]
  },
  {
   "cell_type": "code",
   "execution_count": 8,
   "id": "78271d8d",
   "metadata": {},
   "outputs": [
    {
     "data": {
      "text/plain": [
       "{'I2_D20240809_T142346': {'files': ['/sdata1/runs/run47/raw/continuous_I2_D20240809_T142147/cont_I2_D20240809_T142346_F0001.hdf5'],\n",
       "  'series_num': 220240809142346,\n",
       "  'sample_rate': 1250000.0,\n",
       "  'nb_samples': 12500000,\n",
       "  'nb_events_first_file': 6,\n",
       "  'fridge_run_start_time': 1720814400,\n",
       "  'series_start_time': 1723238625,\n",
       "  'group_start_time': 1723238508}}"
      ]
     },
     "execution_count": 8,
     "metadata": {},
     "output_type": "execute_result"
    }
   ],
   "source": [
    "rand._series_dict"
   ]
  },
  {
   "cell_type": "code",
   "execution_count": null,
   "id": "4359a7f4",
   "metadata": {},
   "outputs": [],
   "source": []
  }
 ],
 "metadata": {
  "kernelspec": {
   "display_name": "Python 3",
   "language": "python",
   "name": "python3"
  },
  "language_info": {
   "codemirror_mode": {
    "name": "ipython",
    "version": 3
   },
   "file_extension": ".py",
   "mimetype": "text/x-python",
   "name": "python",
   "nbconvert_exporter": "python",
   "pygments_lexer": "ipython3",
   "version": "3.6.8"
  }
 },
 "nbformat": 4,
 "nbformat_minor": 5
}
